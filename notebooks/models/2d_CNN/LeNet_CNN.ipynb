{
  "nbformat": 4,
  "nbformat_minor": 0,
  "metadata": {
    "colab": {
      "provenance": []
    },
    "kernelspec": {
      "name": "python3",
      "display_name": "Python 3"
    },
    "language_info": {
      "name": "python"
    }
  },
  "cells": [
    {
      "cell_type": "code",
      "execution_count": 144,
      "metadata": {
        "id": "ucYtaVB8NEWa"
      },
      "outputs": [],
      "source": [
        "import tensorflow as tf\n",
        "\n",
        "lenet_model = tf.keras.models.load_model('/content/lenet5_fp32_mnist.keras')"
      ]
    },
    {
      "cell_type": "code",
      "source": [
        "lenet_model.summary()"
      ],
      "metadata": {
        "colab": {
          "base_uri": "https://localhost:8080/",
          "height": 209
        },
        "id": "t5cQZXhCTjEi",
        "outputId": "04d23e10-8980-40ec-c089-14430dfc1a13"
      },
      "execution_count": 145,
      "outputs": [
        {
          "output_type": "display_data",
          "data": {
            "text/plain": [
              "\u001b[1mModel: \"functional_8\"\u001b[0m\n"
            ],
            "text/html": [
              "<pre style=\"white-space:pre;overflow-x:auto;line-height:normal;font-family:Menlo,'DejaVu Sans Mono',consolas,'Courier New',monospace\"><span style=\"font-weight: bold\">Model: \"functional_8\"</span>\n",
              "</pre>\n"
            ]
          },
          "metadata": {}
        },
        {
          "output_type": "display_data",
          "data": {
            "text/plain": [
              "┏━━━━━━━━━━━━━━━━━━━━━━━━━━━━━━━━━┳━━━━━━━━━━━━━━━━━━━━━━━━┳━━━━━━━━━━━━━━━┓\n",
              "┃\u001b[1m \u001b[0m\u001b[1mLayer (type)                   \u001b[0m\u001b[1m \u001b[0m┃\u001b[1m \u001b[0m\u001b[1mOutput Shape          \u001b[0m\u001b[1m \u001b[0m┃\u001b[1m \u001b[0m\u001b[1m      Param #\u001b[0m\u001b[1m \u001b[0m┃\n",
              "┡━━━━━━━━━━━━━━━━━━━━━━━━━━━━━━━━━╇━━━━━━━━━━━━━━━━━━━━━━━━╇━━━━━━━━━━━━━━━┩\n",
              "│ input_layer_1 (\u001b[38;5;33mInputLayer\u001b[0m)      │ (\u001b[38;5;45mNone\u001b[0m, \u001b[38;5;34m32\u001b[0m, \u001b[38;5;34m32\u001b[0m, \u001b[38;5;34m1\u001b[0m)      │             \u001b[38;5;34m0\u001b[0m │\n",
              "├─────────────────────────────────┼────────────────────────┼───────────────┤\n",
              "│ sequential (\u001b[38;5;33mSequential\u001b[0m)         │ (\u001b[38;5;45mNone\u001b[0m, \u001b[38;5;34m10\u001b[0m)             │        \u001b[38;5;34m61,706\u001b[0m │\n",
              "└─────────────────────────────────┴────────────────────────┴───────────────┘\n"
            ],
            "text/html": [
              "<pre style=\"white-space:pre;overflow-x:auto;line-height:normal;font-family:Menlo,'DejaVu Sans Mono',consolas,'Courier New',monospace\">┏━━━━━━━━━━━━━━━━━━━━━━━━━━━━━━━━━┳━━━━━━━━━━━━━━━━━━━━━━━━┳━━━━━━━━━━━━━━━┓\n",
              "┃<span style=\"font-weight: bold\"> Layer (type)                    </span>┃<span style=\"font-weight: bold\"> Output Shape           </span>┃<span style=\"font-weight: bold\">       Param # </span>┃\n",
              "┡━━━━━━━━━━━━━━━━━━━━━━━━━━━━━━━━━╇━━━━━━━━━━━━━━━━━━━━━━━━╇━━━━━━━━━━━━━━━┩\n",
              "│ input_layer_1 (<span style=\"color: #0087ff; text-decoration-color: #0087ff\">InputLayer</span>)      │ (<span style=\"color: #00d7ff; text-decoration-color: #00d7ff\">None</span>, <span style=\"color: #00af00; text-decoration-color: #00af00\">32</span>, <span style=\"color: #00af00; text-decoration-color: #00af00\">32</span>, <span style=\"color: #00af00; text-decoration-color: #00af00\">1</span>)      │             <span style=\"color: #00af00; text-decoration-color: #00af00\">0</span> │\n",
              "├─────────────────────────────────┼────────────────────────┼───────────────┤\n",
              "│ sequential (<span style=\"color: #0087ff; text-decoration-color: #0087ff\">Sequential</span>)         │ (<span style=\"color: #00d7ff; text-decoration-color: #00d7ff\">None</span>, <span style=\"color: #00af00; text-decoration-color: #00af00\">10</span>)             │        <span style=\"color: #00af00; text-decoration-color: #00af00\">61,706</span> │\n",
              "└─────────────────────────────────┴────────────────────────┴───────────────┘\n",
              "</pre>\n"
            ]
          },
          "metadata": {}
        },
        {
          "output_type": "display_data",
          "data": {
            "text/plain": [
              "\u001b[1m Total params: \u001b[0m\u001b[38;5;34m185,120\u001b[0m (723.13 KB)\n"
            ],
            "text/html": [
              "<pre style=\"white-space:pre;overflow-x:auto;line-height:normal;font-family:Menlo,'DejaVu Sans Mono',consolas,'Courier New',monospace\"><span style=\"font-weight: bold\"> Total params: </span><span style=\"color: #00af00; text-decoration-color: #00af00\">185,120</span> (723.13 KB)\n",
              "</pre>\n"
            ]
          },
          "metadata": {}
        },
        {
          "output_type": "display_data",
          "data": {
            "text/plain": [
              "\u001b[1m Trainable params: \u001b[0m\u001b[38;5;34m61,706\u001b[0m (241.04 KB)\n"
            ],
            "text/html": [
              "<pre style=\"white-space:pre;overflow-x:auto;line-height:normal;font-family:Menlo,'DejaVu Sans Mono',consolas,'Courier New',monospace\"><span style=\"font-weight: bold\"> Trainable params: </span><span style=\"color: #00af00; text-decoration-color: #00af00\">61,706</span> (241.04 KB)\n",
              "</pre>\n"
            ]
          },
          "metadata": {}
        },
        {
          "output_type": "display_data",
          "data": {
            "text/plain": [
              "\u001b[1m Non-trainable params: \u001b[0m\u001b[38;5;34m0\u001b[0m (0.00 B)\n"
            ],
            "text/html": [
              "<pre style=\"white-space:pre;overflow-x:auto;line-height:normal;font-family:Menlo,'DejaVu Sans Mono',consolas,'Courier New',monospace\"><span style=\"font-weight: bold\"> Non-trainable params: </span><span style=\"color: #00af00; text-decoration-color: #00af00\">0</span> (0.00 B)\n",
              "</pre>\n"
            ]
          },
          "metadata": {}
        },
        {
          "output_type": "display_data",
          "data": {
            "text/plain": [
              "\u001b[1m Optimizer params: \u001b[0m\u001b[38;5;34m123,414\u001b[0m (482.09 KB)\n"
            ],
            "text/html": [
              "<pre style=\"white-space:pre;overflow-x:auto;line-height:normal;font-family:Menlo,'DejaVu Sans Mono',consolas,'Courier New',monospace\"><span style=\"font-weight: bold\"> Optimizer params: </span><span style=\"color: #00af00; text-decoration-color: #00af00\">123,414</span> (482.09 KB)\n",
              "</pre>\n"
            ]
          },
          "metadata": {}
        }
      ]
    },
    {
      "cell_type": "code",
      "metadata": {
        "colab": {
          "base_uri": "https://localhost:8080/"
        },
        "id": "fc89fec6",
        "outputId": "bb87514b-f414-49f3-84cc-b4a5f1a3eb27"
      },
      "source": [
        "from google.colab import drive\n",
        "import os\n",
        "\n",
        "# Mount Google Drive\n",
        "drive.mount('/content/drive')\n",
        "\n",
        "# Specify the path to the spider plots folder\n",
        "plots_path = '/content/drive/MyDrive/Si-Ware/moisture Si-Ware dataset/Spider plots/spider_plots'\n",
        "vector_path = '/content/drive/MyDrive/Si-Ware/moisture Si-Ware dataset/All predictors/DL_FreshCS_train_Multiple_Refs.csv'\n",
        "\n",
        "# List the files in the folder\n",
        "if os.path.exists(plots_path):\n",
        "    image_files = [f for f in os.listdir(plots_path) if os.path.isfile(os.path.join(plots_path, f))]\n",
        "    print(f\"Files found in '{plots_path}':\")"
      ],
      "execution_count": 107,
      "outputs": [
        {
          "output_type": "stream",
          "name": "stdout",
          "text": [
            "Drive already mounted at /content/drive; to attempt to forcibly remount, call drive.mount(\"/content/drive\", force_remount=True).\n",
            "Files found in '/content/drive/MyDrive/Si-Ware/moisture Si-Ware dataset/Spider plots/spider_plots':\n"
          ]
        }
      ]
    },
    {
      "cell_type": "code",
      "source": [
        "import pandas as pd\n",
        "\n",
        "df = pd.read_csv(vector_path)\n",
        "df = df.groupby('Sample ID', as_index=False).mean()\n",
        "df = df[['Moi', 'NDF' , 'Starch']]"
      ],
      "metadata": {
        "collapsed": true,
        "id": "OzcMYS_3-RQf"
      },
      "execution_count": 108,
      "outputs": []
    },
    {
      "cell_type": "code",
      "source": [
        "df.shape"
      ],
      "metadata": {
        "colab": {
          "base_uri": "https://localhost:8080/"
        },
        "id": "47yD2FVx-19C",
        "outputId": "1f4d9fe9-ff26-4e5f-83e5-835a53e0334d"
      },
      "execution_count": 109,
      "outputs": [
        {
          "output_type": "execute_result",
          "data": {
            "text/plain": [
              "(784, 3)"
            ]
          },
          "metadata": {},
          "execution_count": 109
        }
      ]
    },
    {
      "cell_type": "code",
      "source": [
        "import pandas as pd\n",
        "from sklearn.model_selection import train_test_split\n",
        "\n",
        "y_train , y_test = train_test_split(df, test_size=0.3, random_state=42)\n",
        "# Y_train , Y_test = train_test_split(, test_size=0.2, random_state=42)\n",
        "print(f'Num of training target (moi ndf and starch): {y_train.shape[0]}')\n",
        "print(f'Num of testing target: {y_test.shape[0]}')"
      ],
      "metadata": {
        "colab": {
          "base_uri": "https://localhost:8080/"
        },
        "id": "KWzXc_Rt84R8",
        "outputId": "2105ce70-5d13-41b9-89c9-0a4bbb7bcb03"
      },
      "execution_count": 111,
      "outputs": [
        {
          "output_type": "stream",
          "name": "stdout",
          "text": [
            "Num of training target (moi ndf and starch): 548\n",
            "Num of testing target: 236\n"
          ]
        }
      ]
    },
    {
      "cell_type": "code",
      "source": [
        "from sklearn.model_selection import train_test_split\n",
        "\n",
        "# Assuming 'image_files' contains the list of image filenames from a previous cell (e.g., fc89fec6)\n",
        "if 'image_files' in locals() and image_files:\n",
        "    train_images, test_images = train_test_split(image_files, test_size=0.3, random_state=42)\n",
        "\n",
        "    print(f\"Number of training images : {len(train_images)}\")\n",
        "    print(f\"Number of testing images : {len(test_images)}\")\n",
        "else:\n",
        "    print(\"Image file list not found. Please ensure the cell listing image files has been run.\")"
      ],
      "metadata": {
        "colab": {
          "base_uri": "https://localhost:8080/"
        },
        "id": "VLkC-4iAAqzk",
        "outputId": "38d9fb0b-12be-4fef-c88d-a0cd460c0d45"
      },
      "execution_count": 112,
      "outputs": [
        {
          "output_type": "stream",
          "name": "stdout",
          "text": [
            "Number of training images : 548\n",
            "Number of testing images : 236\n"
          ]
        }
      ]
    },
    {
      "cell_type": "code",
      "metadata": {
        "colab": {
          "base_uri": "https://localhost:8080/"
        },
        "id": "0c99063e",
        "outputId": "20a4a72a-90c7-49d7-d4d9-dc87bcb0e54b"
      },
      "source": [
        "import os\n",
        "from PIL import Image\n",
        "import numpy as np\n",
        "\n",
        "# Define the target size\n",
        "target_size = (32, 32)\n",
        "\n",
        "# Function to load and resize images\n",
        "def load_and_preprocess_images(image_list, base_folder, target_size):\n",
        "    images = []\n",
        "    for image_file in image_list:\n",
        "        img_path = os.path.join(base_folder, image_file)\n",
        "        try:\n",
        "            #img = Image.open(img_path).convert('L') # Convert to grayscale if not already\n",
        "            img = Image.open(img_path)\n",
        "            img = img.resize(target_size)\n",
        "            images.append(np.array(img))\n",
        "        except Exception as e:\n",
        "            print(f\"Error loading or processing image {image_file}: {e}\")\n",
        "    return np.array(images)\n",
        "\n",
        "# Specify the base folder for the images\n",
        "image_base_folder = '/content/drive/MyDrive/Si-Ware/moisture Si-Ware dataset/Spider plots/spider_plots'\n",
        "\n",
        "# Load and preprocess the training and testing images\n",
        "# These calls should be outside the function definition\n",
        "if 'train_image_files' in locals() and 'test_image_files' in locals():\n",
        "    train_images = load_and_preprocess_images(train_images, image_base_folder, target_size)\n",
        "    test_images = load_and_preprocess_images(test_images, image_base_folder, target_size)\n",
        "\n",
        "    print(f\"Shape of training images array: {train_images.shape}\")\n",
        "    print(f\"Shape of testing images array: {test_images.shape}\")\n",
        "else:\n",
        "    print(\"Training or testing image file lists not found. Please run the previous cell to split the images.\")"
      ],
      "execution_count": 113,
      "outputs": [
        {
          "output_type": "stream",
          "name": "stdout",
          "text": [
            "Shape of training images array: (548, 32, 32, 4)\n",
            "Shape of testing images array: (236, 32, 32, 4)\n"
          ]
        }
      ]
    },
    {
      "cell_type": "code",
      "source": [
        "# Normalize the pixel values to be between 0 and 1\n",
        "train_images = train_images / 255.0\n",
        "test_images = test_images / 255.0\n",
        "\n",
        "print(f\"Shape of training images array after reshaping and scaling: {train_images.shape}\")\n",
        "print(f\"Shape of testing images array after reshaping and scaling: {test_images.shape}\")"
      ],
      "metadata": {
        "colab": {
          "base_uri": "https://localhost:8080/"
        },
        "id": "l_Wy5noRWn5O",
        "outputId": "f3affe26-2dcb-4624-8d2d-a28bb8432987"
      },
      "execution_count": 114,
      "outputs": [
        {
          "output_type": "stream",
          "name": "stdout",
          "text": [
            "Shape of training images array after reshaping and scaling: (548, 32, 32, 4)\n",
            "Shape of testing images array after reshaping and scaling: (236, 32, 32, 4)\n"
          ]
        }
      ]
    },
    {
      "cell_type": "code",
      "source": [
        "import tensorflow as tf\n",
        "from tensorflow.keras.layers import Flatten, Dense\n",
        "from tensorflow.keras.models import Model\n",
        "\n",
        "print(\"Original model summary:\")\n",
        "model.summary()\n",
        "\n",
        "# Input طبقة الموديل الأصلي\n",
        "input_layer = model.input\n",
        "\n",
        "# آخر طبقة قبل الـ Dense\n",
        "x = model.layers[-2].output\n",
        "\n",
        "# Flatten بشكل ديناميكي\n",
        "x = Flatten()(x)\n",
        "\n",
        "# Dense للـ regression\n",
        "output_layer_regression = Dense(3, activation='linear', name='regression_output')(x)\n",
        "\n",
        "# موديل جديد\n",
        "model_regression = Model(inputs=input_layer, outputs=output_layer_regression)\n",
        "model_regression.compile(optimizer='adam', loss='mse', metrics=['mae'])\n",
        "\n",
        "print(\"\\nModified model summary for regression:\")\n",
        "model_regression.summary()"
      ],
      "metadata": {
        "colab": {
          "base_uri": "https://localhost:8080/",
          "height": 472
        },
        "id": "6Jp96YmEXso2",
        "outputId": "d1c74c71-3578-4a41-e97b-a0420e87dd1b"
      },
      "execution_count": 101,
      "outputs": [
        {
          "output_type": "stream",
          "name": "stdout",
          "text": [
            "Original model summary:\n"
          ]
        },
        {
          "output_type": "display_data",
          "data": {
            "text/plain": [
              "\u001b[1mModel: \"functional_8\"\u001b[0m\n"
            ],
            "text/html": [
              "<pre style=\"white-space:pre;overflow-x:auto;line-height:normal;font-family:Menlo,'DejaVu Sans Mono',consolas,'Courier New',monospace\"><span style=\"font-weight: bold\">Model: \"functional_8\"</span>\n",
              "</pre>\n"
            ]
          },
          "metadata": {}
        },
        {
          "output_type": "display_data",
          "data": {
            "text/plain": [
              "┏━━━━━━━━━━━━━━━━━━━━━━━━━━━━━━━━━┳━━━━━━━━━━━━━━━━━━━━━━━━┳━━━━━━━━━━━━━━━┓\n",
              "┃\u001b[1m \u001b[0m\u001b[1mLayer (type)                   \u001b[0m\u001b[1m \u001b[0m┃\u001b[1m \u001b[0m\u001b[1mOutput Shape          \u001b[0m\u001b[1m \u001b[0m┃\u001b[1m \u001b[0m\u001b[1m      Param #\u001b[0m\u001b[1m \u001b[0m┃\n",
              "┡━━━━━━━━━━━━━━━━━━━━━━━━━━━━━━━━━╇━━━━━━━━━━━━━━━━━━━━━━━━╇━━━━━━━━━━━━━━━┩\n",
              "│ input_layer_1 (\u001b[38;5;33mInputLayer\u001b[0m)      │ (\u001b[38;5;45mNone\u001b[0m, \u001b[38;5;34m32\u001b[0m, \u001b[38;5;34m32\u001b[0m, \u001b[38;5;34m1\u001b[0m)      │             \u001b[38;5;34m0\u001b[0m │\n",
              "├─────────────────────────────────┼────────────────────────┼───────────────┤\n",
              "│ sequential (\u001b[38;5;33mSequential\u001b[0m)         │ (\u001b[38;5;45mNone\u001b[0m, \u001b[38;5;34m10\u001b[0m)             │        \u001b[38;5;34m61,706\u001b[0m │\n",
              "└─────────────────────────────────┴────────────────────────┴───────────────┘\n"
            ],
            "text/html": [
              "<pre style=\"white-space:pre;overflow-x:auto;line-height:normal;font-family:Menlo,'DejaVu Sans Mono',consolas,'Courier New',monospace\">┏━━━━━━━━━━━━━━━━━━━━━━━━━━━━━━━━━┳━━━━━━━━━━━━━━━━━━━━━━━━┳━━━━━━━━━━━━━━━┓\n",
              "┃<span style=\"font-weight: bold\"> Layer (type)                    </span>┃<span style=\"font-weight: bold\"> Output Shape           </span>┃<span style=\"font-weight: bold\">       Param # </span>┃\n",
              "┡━━━━━━━━━━━━━━━━━━━━━━━━━━━━━━━━━╇━━━━━━━━━━━━━━━━━━━━━━━━╇━━━━━━━━━━━━━━━┩\n",
              "│ input_layer_1 (<span style=\"color: #0087ff; text-decoration-color: #0087ff\">InputLayer</span>)      │ (<span style=\"color: #00d7ff; text-decoration-color: #00d7ff\">None</span>, <span style=\"color: #00af00; text-decoration-color: #00af00\">32</span>, <span style=\"color: #00af00; text-decoration-color: #00af00\">32</span>, <span style=\"color: #00af00; text-decoration-color: #00af00\">1</span>)      │             <span style=\"color: #00af00; text-decoration-color: #00af00\">0</span> │\n",
              "├─────────────────────────────────┼────────────────────────┼───────────────┤\n",
              "│ sequential (<span style=\"color: #0087ff; text-decoration-color: #0087ff\">Sequential</span>)         │ (<span style=\"color: #00d7ff; text-decoration-color: #00d7ff\">None</span>, <span style=\"color: #00af00; text-decoration-color: #00af00\">10</span>)             │        <span style=\"color: #00af00; text-decoration-color: #00af00\">61,706</span> │\n",
              "└─────────────────────────────────┴────────────────────────┴───────────────┘\n",
              "</pre>\n"
            ]
          },
          "metadata": {}
        },
        {
          "output_type": "display_data",
          "data": {
            "text/plain": [
              "\u001b[1m Total params: \u001b[0m\u001b[38;5;34m185,120\u001b[0m (723.13 KB)\n"
            ],
            "text/html": [
              "<pre style=\"white-space:pre;overflow-x:auto;line-height:normal;font-family:Menlo,'DejaVu Sans Mono',consolas,'Courier New',monospace\"><span style=\"font-weight: bold\"> Total params: </span><span style=\"color: #00af00; text-decoration-color: #00af00\">185,120</span> (723.13 KB)\n",
              "</pre>\n"
            ]
          },
          "metadata": {}
        },
        {
          "output_type": "display_data",
          "data": {
            "text/plain": [
              "\u001b[1m Trainable params: \u001b[0m\u001b[38;5;34m61,706\u001b[0m (241.04 KB)\n"
            ],
            "text/html": [
              "<pre style=\"white-space:pre;overflow-x:auto;line-height:normal;font-family:Menlo,'DejaVu Sans Mono',consolas,'Courier New',monospace\"><span style=\"font-weight: bold\"> Trainable params: </span><span style=\"color: #00af00; text-decoration-color: #00af00\">61,706</span> (241.04 KB)\n",
              "</pre>\n"
            ]
          },
          "metadata": {}
        },
        {
          "output_type": "display_data",
          "data": {
            "text/plain": [
              "\u001b[1m Non-trainable params: \u001b[0m\u001b[38;5;34m0\u001b[0m (0.00 B)\n"
            ],
            "text/html": [
              "<pre style=\"white-space:pre;overflow-x:auto;line-height:normal;font-family:Menlo,'DejaVu Sans Mono',consolas,'Courier New',monospace\"><span style=\"font-weight: bold\"> Non-trainable params: </span><span style=\"color: #00af00; text-decoration-color: #00af00\">0</span> (0.00 B)\n",
              "</pre>\n"
            ]
          },
          "metadata": {}
        },
        {
          "output_type": "display_data",
          "data": {
            "text/plain": [
              "\u001b[1m Optimizer params: \u001b[0m\u001b[38;5;34m123,414\u001b[0m (482.09 KB)\n"
            ],
            "text/html": [
              "<pre style=\"white-space:pre;overflow-x:auto;line-height:normal;font-family:Menlo,'DejaVu Sans Mono',consolas,'Courier New',monospace\"><span style=\"font-weight: bold\"> Optimizer params: </span><span style=\"color: #00af00; text-decoration-color: #00af00\">123,414</span> (482.09 KB)\n",
              "</pre>\n"
            ]
          },
          "metadata": {}
        },
        {
          "output_type": "stream",
          "name": "stdout",
          "text": [
            "\n",
            "Modified model summary for regression:\n"
          ]
        },
        {
          "output_type": "display_data",
          "data": {
            "text/plain": [
              "\u001b[1mModel: \"functional_13\"\u001b[0m\n"
            ],
            "text/html": [
              "<pre style=\"white-space:pre;overflow-x:auto;line-height:normal;font-family:Menlo,'DejaVu Sans Mono',consolas,'Courier New',monospace\"><span style=\"font-weight: bold\">Model: \"functional_13\"</span>\n",
              "</pre>\n"
            ]
          },
          "metadata": {}
        },
        {
          "output_type": "display_data",
          "data": {
            "text/plain": [
              "┏━━━━━━━━━━━━━━━━━━━━━━━━━━━━━━━━━┳━━━━━━━━━━━━━━━━━━━━━━━━┳━━━━━━━━━━━━━━━┓\n",
              "┃\u001b[1m \u001b[0m\u001b[1mLayer (type)                   \u001b[0m\u001b[1m \u001b[0m┃\u001b[1m \u001b[0m\u001b[1mOutput Shape          \u001b[0m\u001b[1m \u001b[0m┃\u001b[1m \u001b[0m\u001b[1m      Param #\u001b[0m\u001b[1m \u001b[0m┃\n",
              "┡━━━━━━━━━━━━━━━━━━━━━━━━━━━━━━━━━╇━━━━━━━━━━━━━━━━━━━━━━━━╇━━━━━━━━━━━━━━━┩\n",
              "│ input_layer_1 (\u001b[38;5;33mInputLayer\u001b[0m)      │ (\u001b[38;5;45mNone\u001b[0m, \u001b[38;5;34m32\u001b[0m, \u001b[38;5;34m32\u001b[0m, \u001b[38;5;34m1\u001b[0m)      │             \u001b[38;5;34m0\u001b[0m │\n",
              "├─────────────────────────────────┼────────────────────────┼───────────────┤\n",
              "│ flatten_4 (\u001b[38;5;33mFlatten\u001b[0m)             │ (\u001b[38;5;45mNone\u001b[0m, \u001b[38;5;34m1024\u001b[0m)           │             \u001b[38;5;34m0\u001b[0m │\n",
              "├─────────────────────────────────┼────────────────────────┼───────────────┤\n",
              "│ regression_output (\u001b[38;5;33mDense\u001b[0m)       │ (\u001b[38;5;45mNone\u001b[0m, \u001b[38;5;34m3\u001b[0m)              │         \u001b[38;5;34m3,075\u001b[0m │\n",
              "└─────────────────────────────────┴────────────────────────┴───────────────┘\n"
            ],
            "text/html": [
              "<pre style=\"white-space:pre;overflow-x:auto;line-height:normal;font-family:Menlo,'DejaVu Sans Mono',consolas,'Courier New',monospace\">┏━━━━━━━━━━━━━━━━━━━━━━━━━━━━━━━━━┳━━━━━━━━━━━━━━━━━━━━━━━━┳━━━━━━━━━━━━━━━┓\n",
              "┃<span style=\"font-weight: bold\"> Layer (type)                    </span>┃<span style=\"font-weight: bold\"> Output Shape           </span>┃<span style=\"font-weight: bold\">       Param # </span>┃\n",
              "┡━━━━━━━━━━━━━━━━━━━━━━━━━━━━━━━━━╇━━━━━━━━━━━━━━━━━━━━━━━━╇━━━━━━━━━━━━━━━┩\n",
              "│ input_layer_1 (<span style=\"color: #0087ff; text-decoration-color: #0087ff\">InputLayer</span>)      │ (<span style=\"color: #00d7ff; text-decoration-color: #00d7ff\">None</span>, <span style=\"color: #00af00; text-decoration-color: #00af00\">32</span>, <span style=\"color: #00af00; text-decoration-color: #00af00\">32</span>, <span style=\"color: #00af00; text-decoration-color: #00af00\">1</span>)      │             <span style=\"color: #00af00; text-decoration-color: #00af00\">0</span> │\n",
              "├─────────────────────────────────┼────────────────────────┼───────────────┤\n",
              "│ flatten_4 (<span style=\"color: #0087ff; text-decoration-color: #0087ff\">Flatten</span>)             │ (<span style=\"color: #00d7ff; text-decoration-color: #00d7ff\">None</span>, <span style=\"color: #00af00; text-decoration-color: #00af00\">1024</span>)           │             <span style=\"color: #00af00; text-decoration-color: #00af00\">0</span> │\n",
              "├─────────────────────────────────┼────────────────────────┼───────────────┤\n",
              "│ regression_output (<span style=\"color: #0087ff; text-decoration-color: #0087ff\">Dense</span>)       │ (<span style=\"color: #00d7ff; text-decoration-color: #00d7ff\">None</span>, <span style=\"color: #00af00; text-decoration-color: #00af00\">3</span>)              │         <span style=\"color: #00af00; text-decoration-color: #00af00\">3,075</span> │\n",
              "└─────────────────────────────────┴────────────────────────┴───────────────┘\n",
              "</pre>\n"
            ]
          },
          "metadata": {}
        },
        {
          "output_type": "display_data",
          "data": {
            "text/plain": [
              "\u001b[1m Total params: \u001b[0m\u001b[38;5;34m3,075\u001b[0m (12.01 KB)\n"
            ],
            "text/html": [
              "<pre style=\"white-space:pre;overflow-x:auto;line-height:normal;font-family:Menlo,'DejaVu Sans Mono',consolas,'Courier New',monospace\"><span style=\"font-weight: bold\"> Total params: </span><span style=\"color: #00af00; text-decoration-color: #00af00\">3,075</span> (12.01 KB)\n",
              "</pre>\n"
            ]
          },
          "metadata": {}
        },
        {
          "output_type": "display_data",
          "data": {
            "text/plain": [
              "\u001b[1m Trainable params: \u001b[0m\u001b[38;5;34m3,075\u001b[0m (12.01 KB)\n"
            ],
            "text/html": [
              "<pre style=\"white-space:pre;overflow-x:auto;line-height:normal;font-family:Menlo,'DejaVu Sans Mono',consolas,'Courier New',monospace\"><span style=\"font-weight: bold\"> Trainable params: </span><span style=\"color: #00af00; text-decoration-color: #00af00\">3,075</span> (12.01 KB)\n",
              "</pre>\n"
            ]
          },
          "metadata": {}
        },
        {
          "output_type": "display_data",
          "data": {
            "text/plain": [
              "\u001b[1m Non-trainable params: \u001b[0m\u001b[38;5;34m0\u001b[0m (0.00 B)\n"
            ],
            "text/html": [
              "<pre style=\"white-space:pre;overflow-x:auto;line-height:normal;font-family:Menlo,'DejaVu Sans Mono',consolas,'Courier New',monospace\"><span style=\"font-weight: bold\"> Non-trainable params: </span><span style=\"color: #00af00; text-decoration-color: #00af00\">0</span> (0.00 B)\n",
              "</pre>\n"
            ]
          },
          "metadata": {}
        }
      ]
    },
    {
      "cell_type": "code",
      "source": [
        "def r2_metric(y_true, y_pred):\n",
        "    ss_res = tf.reduce_sum(tf.square(y_true - y_pred))\n",
        "    ss_tot = tf.reduce_sum(tf.square(y_true - tf.reduce_mean(y_true)))\n",
        "    return 1 - ss_res/(ss_tot + tf.keras.backend.epsilon())"
      ],
      "metadata": {
        "id": "pDxfQa087M10"
      },
      "execution_count": 136,
      "outputs": []
    },
    {
      "cell_type": "code",
      "source": [
        "import tensorflow as tf\n",
        "from tensorflow.keras import layers, models, optimizers\n",
        "# --- Model Builder Function ---\n",
        "def build_model():\n",
        "    inputs = layers.Input(shape=(32, 32, 4))\n",
        "\n",
        "    # Convolutional layers (LeNet-style)\n",
        "    x = layers.Conv2D(6, (5,5), activation='relu', padding='same')(inputs)\n",
        "    x = layers.AveragePooling2D(pool_size=(2, 2))(x)\n",
        "    x = layers.Conv2D(16, (5,5), activation='relu')(x)\n",
        "    x = layers.AveragePooling2D(pool_size=(2, 2))(x)\n",
        "    # Flatten (or GlobalAveragePooling2D)\n",
        "    x = layers.Flatten()(x)\n",
        "    # Fully connected layers\n",
        "    x = layers.Dense(120, activation='relu')(x)\n",
        "    x = layers.Dense(84, activation='relu')(x)\n",
        "\n",
        "    # Regression output (3 targets)\n",
        "    outputs = layers.Dense(3, activation='linear', name=\"regression_output\")(x)\n",
        "\n",
        "    # Build and compile model\n",
        "    model = models.Model(inputs=inputs, outputs=outputs)\n",
        "    optimizer = optimizers.Adam(learning_rate=0.001)\n",
        "\n",
        "    model.compile(optimizer='adam', loss='mse', metrics=[r2_metric])\n",
        "\n",
        "    return model"
      ],
      "metadata": {
        "id": "zHCTyDFq333_"
      },
      "execution_count": 133,
      "outputs": []
    },
    {
      "cell_type": "code",
      "source": [
        "history = model_regression.fit(\n",
        "    train_images, y_train,       # input data + targets\n",
        "    #validation_data=(X_val, y_val),  # optional\n",
        "    epochs=50,\n",
        "    batch_size=32)"
      ],
      "metadata": {
        "colab": {
          "base_uri": "https://localhost:8080/"
        },
        "id": "ChCDVlnj5JA0",
        "outputId": "fc0112b9-45c8-4b22-ed2a-11edcab3e68c"
      },
      "execution_count": 138,
      "outputs": [
        {
          "output_type": "stream",
          "name": "stdout",
          "text": [
            "Epoch 1/50\n",
            "\u001b[1m18/18\u001b[0m \u001b[32m━━━━━━━━━━━━━━━━━━━━\u001b[0m\u001b[37m\u001b[0m \u001b[1m1s\u001b[0m 52ms/step - loss: 56.0239 - mae: 5.5281 - r2_score: 0.7889\n",
            "Epoch 2/50\n",
            "\u001b[1m18/18\u001b[0m \u001b[32m━━━━━━━━━━━━━━━━━━━━\u001b[0m\u001b[37m\u001b[0m \u001b[1m1s\u001b[0m 51ms/step - loss: 58.3209 - mae: 5.5952 - r2_score: 0.7871\n",
            "Epoch 3/50\n",
            "\u001b[1m18/18\u001b[0m \u001b[32m━━━━━━━━━━━━━━━━━━━━\u001b[0m\u001b[37m\u001b[0m \u001b[1m1s\u001b[0m 47ms/step - loss: 61.5238 - mae: 5.7911 - r2_score: 0.7703\n",
            "Epoch 4/50\n",
            "\u001b[1m18/18\u001b[0m \u001b[32m━━━━━━━━━━━━━━━━━━━━\u001b[0m\u001b[37m\u001b[0m \u001b[1m1s\u001b[0m 28ms/step - loss: 59.5610 - mae: 5.6501 - r2_score: 0.7779\n",
            "Epoch 5/50\n",
            "\u001b[1m18/18\u001b[0m \u001b[32m━━━━━━━━━━━━━━━━━━━━\u001b[0m\u001b[37m\u001b[0m \u001b[1m1s\u001b[0m 29ms/step - loss: 56.9230 - mae: 5.5042 - r2_score: 0.7808\n",
            "Epoch 6/50\n",
            "\u001b[1m18/18\u001b[0m \u001b[32m━━━━━━━━━━━━━━━━━━━━\u001b[0m\u001b[37m\u001b[0m \u001b[1m1s\u001b[0m 29ms/step - loss: 56.8237 - mae: 5.5829 - r2_score: 0.7900\n",
            "Epoch 7/50\n",
            "\u001b[1m18/18\u001b[0m \u001b[32m━━━━━━━━━━━━━━━━━━━━\u001b[0m\u001b[37m\u001b[0m \u001b[1m1s\u001b[0m 29ms/step - loss: 62.0606 - mae: 5.8188 - r2_score: 0.7781\n",
            "Epoch 8/50\n",
            "\u001b[1m18/18\u001b[0m \u001b[32m━━━━━━━━━━━━━━━━━━━━\u001b[0m\u001b[37m\u001b[0m \u001b[1m1s\u001b[0m 29ms/step - loss: 55.5693 - mae: 5.4024 - r2_score: 0.7950\n",
            "Epoch 9/50\n",
            "\u001b[1m18/18\u001b[0m \u001b[32m━━━━━━━━━━━━━━━━━━━━\u001b[0m\u001b[37m\u001b[0m \u001b[1m1s\u001b[0m 30ms/step - loss: 66.2247 - mae: 6.0489 - r2_score: 0.7674\n",
            "Epoch 10/50\n",
            "\u001b[1m18/18\u001b[0m \u001b[32m━━━━━━━━━━━━━━━━━━━━\u001b[0m\u001b[37m\u001b[0m \u001b[1m1s\u001b[0m 29ms/step - loss: 59.7098 - mae: 5.5631 - r2_score: 0.7846\n",
            "Epoch 11/50\n",
            "\u001b[1m18/18\u001b[0m \u001b[32m━━━━━━━━━━━━━━━━━━━━\u001b[0m\u001b[37m\u001b[0m \u001b[1m1s\u001b[0m 28ms/step - loss: 60.8384 - mae: 5.8296 - r2_score: 0.7713\n",
            "Epoch 12/50\n",
            "\u001b[1m18/18\u001b[0m \u001b[32m━━━━━━━━━━━━━━━━━━━━\u001b[0m\u001b[37m\u001b[0m \u001b[1m1s\u001b[0m 30ms/step - loss: 57.8948 - mae: 5.6411 - r2_score: 0.7776\n",
            "Epoch 13/50\n",
            "\u001b[1m18/18\u001b[0m \u001b[32m━━━━━━━━━━━━━━━━━━━━\u001b[0m\u001b[37m\u001b[0m \u001b[1m1s\u001b[0m 30ms/step - loss: 60.1932 - mae: 5.9003 - r2_score: 0.7702\n",
            "Epoch 14/50\n",
            "\u001b[1m18/18\u001b[0m \u001b[32m━━━━━━━━━━━━━━━━━━━━\u001b[0m\u001b[37m\u001b[0m \u001b[1m1s\u001b[0m 28ms/step - loss: 58.9268 - mae: 5.6563 - r2_score: 0.7853\n",
            "Epoch 15/50\n",
            "\u001b[1m18/18\u001b[0m \u001b[32m━━━━━━━━━━━━━━━━━━━━\u001b[0m\u001b[37m\u001b[0m \u001b[1m1s\u001b[0m 30ms/step - loss: 64.9285 - mae: 6.0237 - r2_score: 0.7781\n",
            "Epoch 16/50\n",
            "\u001b[1m18/18\u001b[0m \u001b[32m━━━━━━━━━━━━━━━━━━━━\u001b[0m\u001b[37m\u001b[0m \u001b[1m1s\u001b[0m 28ms/step - loss: 59.6560 - mae: 5.7453 - r2_score: 0.7699\n",
            "Epoch 17/50\n",
            "\u001b[1m18/18\u001b[0m \u001b[32m━━━━━━━━━━━━━━━━━━━━\u001b[0m\u001b[37m\u001b[0m \u001b[1m1s\u001b[0m 32ms/step - loss: 62.8712 - mae: 5.9650 - r2_score: 0.7733\n",
            "Epoch 18/50\n",
            "\u001b[1m18/18\u001b[0m \u001b[32m━━━━━━━━━━━━━━━━━━━━\u001b[0m\u001b[37m\u001b[0m \u001b[1m1s\u001b[0m 28ms/step - loss: 66.7793 - mae: 5.8965 - r2_score: 0.7536\n",
            "Epoch 19/50\n",
            "\u001b[1m18/18\u001b[0m \u001b[32m━━━━━━━━━━━━━━━━━━━━\u001b[0m\u001b[37m\u001b[0m \u001b[1m1s\u001b[0m 29ms/step - loss: 57.6377 - mae: 5.5756 - r2_score: 0.7853\n",
            "Epoch 20/50\n",
            "\u001b[1m18/18\u001b[0m \u001b[32m━━━━━━━━━━━━━━━━━━━━\u001b[0m\u001b[37m\u001b[0m \u001b[1m1s\u001b[0m 33ms/step - loss: 65.7293 - mae: 6.0867 - r2_score: 0.7626\n",
            "Epoch 21/50\n",
            "\u001b[1m18/18\u001b[0m \u001b[32m━━━━━━━━━━━━━━━━━━━━\u001b[0m\u001b[37m\u001b[0m \u001b[1m2s\u001b[0m 53ms/step - loss: 55.0859 - mae: 5.2338 - r2_score: 0.7910\n",
            "Epoch 22/50\n",
            "\u001b[1m18/18\u001b[0m \u001b[32m━━━━━━━━━━━━━━━━━━━━\u001b[0m\u001b[37m\u001b[0m \u001b[1m1s\u001b[0m 50ms/step - loss: 54.2958 - mae: 5.4377 - r2_score: 0.7880\n",
            "Epoch 23/50\n",
            "\u001b[1m18/18\u001b[0m \u001b[32m━━━━━━━━━━━━━━━━━━━━\u001b[0m\u001b[37m\u001b[0m \u001b[1m1s\u001b[0m 30ms/step - loss: 64.0415 - mae: 5.8965 - r2_score: 0.7634\n",
            "Epoch 24/50\n",
            "\u001b[1m18/18\u001b[0m \u001b[32m━━━━━━━━━━━━━━━━━━━━\u001b[0m\u001b[37m\u001b[0m \u001b[1m1s\u001b[0m 29ms/step - loss: 56.5489 - mae: 5.7974 - r2_score: 0.7860\n",
            "Epoch 25/50\n",
            "\u001b[1m18/18\u001b[0m \u001b[32m━━━━━━━━━━━━━━━━━━━━\u001b[0m\u001b[37m\u001b[0m \u001b[1m1s\u001b[0m 31ms/step - loss: 66.8206 - mae: 6.0190 - r2_score: 0.7671\n",
            "Epoch 26/50\n",
            "\u001b[1m18/18\u001b[0m \u001b[32m━━━━━━━━━━━━━━━━━━━━\u001b[0m\u001b[37m\u001b[0m \u001b[1m1s\u001b[0m 30ms/step - loss: 58.3373 - mae: 5.6733 - r2_score: 0.7745\n",
            "Epoch 27/50\n",
            "\u001b[1m18/18\u001b[0m \u001b[32m━━━━━━━━━━━━━━━━━━━━\u001b[0m\u001b[37m\u001b[0m \u001b[1m1s\u001b[0m 30ms/step - loss: 60.1171 - mae: 5.6965 - r2_score: 0.7774\n",
            "Epoch 28/50\n",
            "\u001b[1m18/18\u001b[0m \u001b[32m━━━━━━━━━━━━━━━━━━━━\u001b[0m\u001b[37m\u001b[0m \u001b[1m1s\u001b[0m 30ms/step - loss: 60.2243 - mae: 5.7778 - r2_score: 0.7856\n",
            "Epoch 29/50\n",
            "\u001b[1m18/18\u001b[0m \u001b[32m━━━━━━━━━━━━━━━━━━━━\u001b[0m\u001b[37m\u001b[0m \u001b[1m1s\u001b[0m 30ms/step - loss: 61.1735 - mae: 5.9484 - r2_score: 0.7734\n",
            "Epoch 30/50\n",
            "\u001b[1m18/18\u001b[0m \u001b[32m━━━━━━━━━━━━━━━━━━━━\u001b[0m\u001b[37m\u001b[0m \u001b[1m1s\u001b[0m 30ms/step - loss: 56.8321 - mae: 5.6789 - r2_score: 0.7865\n",
            "Epoch 31/50\n",
            "\u001b[1m18/18\u001b[0m \u001b[32m━━━━━━━━━━━━━━━━━━━━\u001b[0m\u001b[37m\u001b[0m \u001b[1m1s\u001b[0m 29ms/step - loss: 54.8978 - mae: 5.5633 - r2_score: 0.7901\n",
            "Epoch 32/50\n",
            "\u001b[1m18/18\u001b[0m \u001b[32m━━━━━━━━━━━━━━━━━━━━\u001b[0m\u001b[37m\u001b[0m \u001b[1m1s\u001b[0m 29ms/step - loss: 57.8541 - mae: 5.5756 - r2_score: 0.7833\n",
            "Epoch 33/50\n",
            "\u001b[1m18/18\u001b[0m \u001b[32m━━━━━━━━━━━━━━━━━━━━\u001b[0m\u001b[37m\u001b[0m \u001b[1m1s\u001b[0m 30ms/step - loss: 55.7111 - mae: 5.5157 - r2_score: 0.7954\n",
            "Epoch 34/50\n",
            "\u001b[1m18/18\u001b[0m \u001b[32m━━━━━━━━━━━━━━━━━━━━\u001b[0m\u001b[37m\u001b[0m \u001b[1m1s\u001b[0m 29ms/step - loss: 57.4065 - mae: 5.6515 - r2_score: 0.7889\n",
            "Epoch 35/50\n",
            "\u001b[1m18/18\u001b[0m \u001b[32m━━━━━━━━━━━━━━━━━━━━\u001b[0m\u001b[37m\u001b[0m \u001b[1m1s\u001b[0m 30ms/step - loss: 63.9919 - mae: 5.8032 - r2_score: 0.7738\n",
            "Epoch 36/50\n",
            "\u001b[1m18/18\u001b[0m \u001b[32m━━━━━━━━━━━━━━━━━━━━\u001b[0m\u001b[37m\u001b[0m \u001b[1m1s\u001b[0m 29ms/step - loss: 53.6873 - mae: 5.2515 - r2_score: 0.7961\n",
            "Epoch 37/50\n",
            "\u001b[1m18/18\u001b[0m \u001b[32m━━━━━━━━━━━━━━━━━━━━\u001b[0m\u001b[37m\u001b[0m \u001b[1m1s\u001b[0m 29ms/step - loss: 64.7087 - mae: 6.0712 - r2_score: 0.7578\n",
            "Epoch 38/50\n",
            "\u001b[1m18/18\u001b[0m \u001b[32m━━━━━━━━━━━━━━━━━━━━\u001b[0m\u001b[37m\u001b[0m \u001b[1m1s\u001b[0m 29ms/step - loss: 57.5274 - mae: 5.6168 - r2_score: 0.7879\n",
            "Epoch 39/50\n",
            "\u001b[1m18/18\u001b[0m \u001b[32m━━━━━━━━━━━━━━━━━━━━\u001b[0m\u001b[37m\u001b[0m \u001b[1m1s\u001b[0m 34ms/step - loss: 65.0430 - mae: 6.0782 - r2_score: 0.7567\n",
            "Epoch 40/50\n",
            "\u001b[1m18/18\u001b[0m \u001b[32m━━━━━━━━━━━━━━━━━━━━\u001b[0m\u001b[37m\u001b[0m \u001b[1m2s\u001b[0m 48ms/step - loss: 56.2918 - mae: 5.5093 - r2_score: 0.7958\n",
            "Epoch 41/50\n",
            "\u001b[1m18/18\u001b[0m \u001b[32m━━━━━━━━━━━━━━━━━━━━\u001b[0m\u001b[37m\u001b[0m \u001b[1m1s\u001b[0m 55ms/step - loss: 70.7880 - mae: 6.3257 - r2_score: 0.7441\n",
            "Epoch 42/50\n",
            "\u001b[1m18/18\u001b[0m \u001b[32m━━━━━━━━━━━━━━━━━━━━\u001b[0m\u001b[37m\u001b[0m \u001b[1m1s\u001b[0m 33ms/step - loss: 61.4543 - mae: 5.8492 - r2_score: 0.7735\n",
            "Epoch 43/50\n",
            "\u001b[1m18/18\u001b[0m \u001b[32m━━━━━━━━━━━━━━━━━━━━\u001b[0m\u001b[37m\u001b[0m \u001b[1m1s\u001b[0m 32ms/step - loss: 53.9318 - mae: 5.5129 - r2_score: 0.8017\n",
            "Epoch 44/50\n",
            "\u001b[1m18/18\u001b[0m \u001b[32m━━━━━━━━━━━━━━━━━━━━\u001b[0m\u001b[37m\u001b[0m \u001b[1m1s\u001b[0m 29ms/step - loss: 58.5588 - mae: 5.5805 - r2_score: 0.7844\n",
            "Epoch 45/50\n",
            "\u001b[1m18/18\u001b[0m \u001b[32m━━━━━━━━━━━━━━━━━━━━\u001b[0m\u001b[37m\u001b[0m \u001b[1m1s\u001b[0m 30ms/step - loss: 63.7818 - mae: 5.8976 - r2_score: 0.7692\n",
            "Epoch 46/50\n",
            "\u001b[1m18/18\u001b[0m \u001b[32m━━━━━━━━━━━━━━━━━━━━\u001b[0m\u001b[37m\u001b[0m \u001b[1m1s\u001b[0m 29ms/step - loss: 58.4487 - mae: 5.7020 - r2_score: 0.7840\n",
            "Epoch 47/50\n",
            "\u001b[1m18/18\u001b[0m \u001b[32m━━━━━━━━━━━━━━━━━━━━\u001b[0m\u001b[37m\u001b[0m \u001b[1m1s\u001b[0m 32ms/step - loss: 57.9877 - mae: 5.6989 - r2_score: 0.7813\n",
            "Epoch 48/50\n",
            "\u001b[1m18/18\u001b[0m \u001b[32m━━━━━━━━━━━━━━━━━━━━\u001b[0m\u001b[37m\u001b[0m \u001b[1m1s\u001b[0m 30ms/step - loss: 57.5993 - mae: 5.5396 - r2_score: 0.7933\n",
            "Epoch 49/50\n",
            "\u001b[1m18/18\u001b[0m \u001b[32m━━━━━━━━━━━━━━━━━━━━\u001b[0m\u001b[37m\u001b[0m \u001b[1m1s\u001b[0m 29ms/step - loss: 61.1806 - mae: 5.7236 - r2_score: 0.7838\n",
            "Epoch 50/50\n",
            "\u001b[1m18/18\u001b[0m \u001b[32m━━━━━━━━━━━━━━━━━━━━\u001b[0m\u001b[37m\u001b[0m \u001b[1m1s\u001b[0m 30ms/step - loss: 58.5843 - mae: 5.4487 - r2_score: 0.7882\n"
          ]
        }
      ]
    },
    {
      "cell_type": "code",
      "source": [
        "from sklearn.model_selection import KFold\n",
        "from sklearn.metrics import r2_score as sk_r2, mean_squared_error # Import mean_squared_error for RMSE\n",
        "import numpy as np\n",
        "import tensorflow as tf # Import tensorflow to handle tf dtypes if necessary\n",
        "\n",
        "kf = KFold(n_splits=5, shuffle=True, random_state=42)\n",
        "cv_r2_scores = []\n",
        "cv_rmse_scores = []\n",
        "cv_bias_scores = []\n",
        "# Lists to store scores per target per fold\n",
        "cv_r2_scores_per_target = {col: [] for col in y_train.columns}\n",
        "cv_rmse_scores_per_target = {col: [] for col in y_train.columns}\n",
        "cv_bias_scores_per_target = {col: [] for col in y_train.columns}\n",
        "\n",
        "\n",
        "# Assuming train_images contains the training image features for cross-validation\n",
        "# Assuming y_train contains the training spectral targets for cross-validation and are aligned with train_images\n",
        "X_cv = train_images # Features for CV\n",
        "y_cv = y_train.values # Targets for CV (convert DataFrame to NumPy array)\n",
        "\n",
        "\n",
        "for train_idx, val_idx in kf.split(X_cv):\n",
        "    X_tr, X_val = X_cv[train_idx], X_cv[val_idx]\n",
        "    y_tr, y_val = y_cv[train_idx], y_cv[val_idx]\n",
        "\n",
        "    # Build the model inside the loop to get a fresh model for each fold\n",
        "    # Assuming build_model() function exists and is appropriate for the data shape\n",
        "    # build_model() needs to output 3 units for Moi, NDF, Starch regression\n",
        "    # Based on cell zHCTyDFq333_ and 6Jp96YmEXso2, let's assume build_model creates\n",
        "    # a LeNet-like model with 3 regression outputs. If zHCTyDFq333_ is the current build_model,\n",
        "    # it needs to be updated to output 3 units instead of 1.\n",
        "\n",
        "    # Let's use the model modification approach from cell 6Jp96YmEXso2 directly in a function\n",
        "    def build_regression_model():\n",
        "        # Assuming 'model' (the original LeNet-5) is available globally\n",
        "        input_layer = model.input\n",
        "        x = model.layers[-2].output # Output of layer before the last classification layer\n",
        "        x = tf.keras.layers.Flatten()(x) # Flatten before regression\n",
        "        output_layer_regression = tf.keras.layers.Dense(3, activation='linear', name='regression_output')(x)\n",
        "        regression_model = tf.keras.models.Model(inputs=input_layer, outputs=output_layer_regression)\n",
        "        # Use the custom r2_metric function here\n",
        "        regression_model.compile(optimizer='adam', loss='mse', metrics=['mae', r2_metric])\n",
        "        return regression_model\n",
        "\n",
        "    current_model = build_regression_model() # Build a fresh model for the fold\n",
        "\n",
        "\n",
        "    # Train the model\n",
        "    # Ensure y_tr is in the correct format for training (NumPy array)\n",
        "    current_model.fit(X_tr, y_tr, epochs=10, batch_size=32, verbose=0)\n",
        "\n",
        "    # Make predictions on the validation set\n",
        "    y_val_pred = current_model.predict(X_val)\n",
        "\n",
        "    # Convert predictions and true values to standard NumPy arrays with float dtype\n",
        "    # to ensure compatibility with scikit-learn metrics\n",
        "    y_val_np = np.asarray(y_val).astype(np.float32)\n",
        "    y_val_pred_np = np.asarray(y_val_pred).astype(np.float32)\n",
        "\n",
        "\n",
        "    # Calculate R² score using scikit-learn's r2_score (uniform average)\n",
        "    try:\n",
        "        fold_r2_score = sk_r2(y_val_np, y_val_pred_np, multioutput='uniform_average')\n",
        "        cv_r2_scores.append(fold_r2_score)\n",
        "    except ValueError as e:\n",
        "        print(f\"Error calculating R2 (uniform average) for a fold: {e}\")\n",
        "\n",
        "\n",
        "    # Calculate R², RMSE, Bias for each target\n",
        "    for i, col in enumerate(y_train.columns):\n",
        "        try:\n",
        "            # R2 per target\n",
        "            r2_target = sk_r2(y_val_np[:, i], y_val_pred_np[:, i])\n",
        "            cv_r2_scores_per_target[col].append(r2_target)\n",
        "\n",
        "            # RMSE per target\n",
        "            rmse_target = np.sqrt(mean_squared_error(y_val_np[:, i], y_val_pred_np[:, i]))\n",
        "            cv_rmse_scores_per_target[col].append(rmse_target)\n",
        "\n",
        "            # Bias per target\n",
        "            bias_target = np.mean(y_val_pred_np[:, i]) - np.mean(y_val_np[:, i])\n",
        "            cv_bias_scores_per_target[col].append(bias_target)\n",
        "\n",
        "        except ValueError as e:\n",
        "             print(f\"Error calculating metrics for target {col} in a fold: {e}\")\n",
        "\n",
        "\n",
        "print(\"Cross-validation Results (Uniform Average R²):\")\n",
        "print(\"CV R² scores (uniform average):\", cv_r2_scores)\n",
        "print(\"Mean CV R² (uniform average):\", np.mean(cv_r2_scores))\n",
        "print(\"Std Dev CV R² (uniform average):\", np.std(cv_r2_scores))\n",
        "\n",
        "print(\"\\nCross-validation Results (Per Target):\")\n",
        "for col in y_train.columns:\n",
        "    print(f\"  {col} - R2: Mean = {np.mean(cv_r2_scores_per_target[col]):.4f}, Std = {np.std(cv_r2_scores_per_target[col]):.4f}\")\n",
        "    print(f\"  {col} - RMSE: Mean = {np.mean(cv_rmse_scores_per_target[col]):.4f}, Std = {np.std(cv_rmse_scores_per_target[col]):.4f}\")\n",
        "    print(f\"  {col} - Bias: Mean = {np.mean(cv_bias_scores_per_target[col]):.4f}, Std = {np.std(cv_bias_scores_per_target[col]):.4f}\")\n",
        "\n",
        "# The build_model function in cell zHCTyDFq333_ currently builds a model with 1 output unit.\n",
        "# It needs to be updated to 3 output units if you are predicting Moi, NDF, Starch.\n",
        "# For now, we are using the model modification logic from cell 6Jp96YmEXso2 within\n",
        "# a local function build_regression_model() for the cross-validation loop."
      ],
      "metadata": {
        "colab": {
          "base_uri": "https://localhost:8080/"
        },
        "id": "9EK-TXkX9ROY",
        "outputId": "26779fc2-c355-4147-b851-5332fe1757fa"
      },
      "execution_count": 142,
      "outputs": [
        {
          "output_type": "stream",
          "name": "stdout",
          "text": [
            "\u001b[1m4/4\u001b[0m \u001b[32m━━━━━━━━━━━━━━━━━━━━\u001b[0m\u001b[37m\u001b[0m \u001b[1m0s\u001b[0m 35ms/step\n",
            "\u001b[1m4/4\u001b[0m \u001b[32m━━━━━━━━━━━━━━━━━━━━\u001b[0m\u001b[37m\u001b[0m \u001b[1m0s\u001b[0m 54ms/step\n"
          ]
        },
        {
          "output_type": "stream",
          "name": "stderr",
          "text": [
            "WARNING:tensorflow:5 out of the last 9 calls to <function TensorFlowTrainer.make_predict_function.<locals>.one_step_on_data_distributed at 0x797150aef100> triggered tf.function retracing. Tracing is expensive and the excessive number of tracings could be due to (1) creating @tf.function repeatedly in a loop, (2) passing tensors with different shapes, (3) passing Python objects instead of tensors. For (1), please define your @tf.function outside of the loop. For (2), @tf.function has reduce_retracing=True option that can avoid unnecessary retracing. For (3), please refer to https://www.tensorflow.org/guide/function#controlling_retracing and https://www.tensorflow.org/api_docs/python/tf/function for  more details.\n"
          ]
        },
        {
          "output_type": "stream",
          "name": "stdout",
          "text": [
            "\r\u001b[1m1/4\u001b[0m \u001b[32m━━━━━\u001b[0m\u001b[37m━━━━━━━━━━━━━━━\u001b[0m \u001b[1m0s\u001b[0m 86ms/step"
          ]
        },
        {
          "output_type": "stream",
          "name": "stderr",
          "text": [
            "WARNING:tensorflow:6 out of the last 12 calls to <function TensorFlowTrainer.make_predict_function.<locals>.one_step_on_data_distributed at 0x797150aef100> triggered tf.function retracing. Tracing is expensive and the excessive number of tracings could be due to (1) creating @tf.function repeatedly in a loop, (2) passing tensors with different shapes, (3) passing Python objects instead of tensors. For (1), please define your @tf.function outside of the loop. For (2), @tf.function has reduce_retracing=True option that can avoid unnecessary retracing. For (3), please refer to https://www.tensorflow.org/guide/function#controlling_retracing and https://www.tensorflow.org/api_docs/python/tf/function for  more details.\n"
          ]
        },
        {
          "output_type": "stream",
          "name": "stdout",
          "text": [
            "\u001b[1m4/4\u001b[0m \u001b[32m━━━━━━━━━━━━━━━━━━━━\u001b[0m\u001b[37m\u001b[0m \u001b[1m0s\u001b[0m 37ms/step\n",
            "\u001b[1m4/4\u001b[0m \u001b[32m━━━━━━━━━━━━━━━━━━━━\u001b[0m\u001b[37m\u001b[0m \u001b[1m0s\u001b[0m 44ms/step\n",
            "\u001b[1m4/4\u001b[0m \u001b[32m━━━━━━━━━━━━━━━━━━━━\u001b[0m\u001b[37m\u001b[0m \u001b[1m0s\u001b[0m 36ms/step\n",
            "Cross-validation Results (Uniform Average R²):\n",
            "CV R² scores (uniform average): [0.05091583728790283, -0.053028445690870285, 0.039382338523864746, 0.05298016592860222, 0.054499369114637375]\n",
            "Mean CV R² (uniform average): 0.028949853032827377\n",
            "Std Dev CV R² (uniform average): 0.041332835347530295\n",
            "\n",
            "Cross-validation Results (Per Target):\n",
            "  Moi - R2: Mean = 0.1428, Std = 0.0524\n",
            "  Moi - RMSE: Mean = 5.6992, Std = 0.2820\n",
            "  Moi - Bias: Mean = -0.3532, Std = 0.6943\n",
            "  NDF - R2: Mean = -0.0262, Std = 0.0494\n",
            "  NDF - RMSE: Mean = 6.3982, Std = 0.5937\n",
            "  NDF - Bias: Mean = -0.4021, Std = 0.9305\n",
            "  Starch - R2: Mean = -0.0297, Std = 0.0277\n",
            "  Starch - RMSE: Mean = 10.0241, Std = 0.6028\n",
            "  Starch - Bias: Mean = 0.2698, Std = 1.3766\n"
          ]
        }
      ]
    },
    {
      "cell_type": "markdown",
      "source": [
        "# Now R2 Bias and rmse test scores"
      ],
      "metadata": {
        "id": "6AJ_GkXKctgr"
      }
    },
    {
      "cell_type": "code",
      "source": [
        "from sklearn.metrics import mean_squared_error, r2_score\n",
        "import numpy as np\n",
        "\n",
        "# Assume test_images contains the testing image features\n",
        "# Assume y_test contains the spectral targets for the test set and is aligned with test_images\n",
        "# Renaming y_test to Y_test_aligned for clarity as it represents the target values\n",
        "Y_test_aligned = y_test\n",
        "\n",
        "# Ensure test_images and Y_test_aligned have compatible shapes and types if necessary\n",
        "# test_images is already a NumPy array from previous steps\n",
        "# Y_test_aligned (originally y_test) is a pandas DataFrame\n",
        "\n",
        "# Make predictions on the testing images using the modified regression model\n",
        "print(\"Making predictions on testing images...\")\n",
        "y_pred_test = model_regression.predict(test_images)\n",
        "\n",
        "# Calculate R2, RMSE, and Bias scores for each target\n",
        "print(\"\\nTesting Results:\")\n",
        "\n",
        "# Ensure the column names from the original y_test DataFrame are used for clarity\n",
        "# Assuming the columns in Y_test_aligned (originally y_test) correspond to the spectral targets\n",
        "target_names = Y_test_aligned.columns.tolist() # Use Y_test_aligned directly to get column names\n",
        "\n",
        "if y_pred_test.shape[1] == len(target_names):\n",
        "    for i, target_name in enumerate(target_names):\n",
        "        # Calculate R2 score for the current target\n",
        "        r2 = r2_score(Y_test_aligned.iloc[:, i], y_pred_test[:, i])\n",
        "\n",
        "        # Calculate RMSE score for the current target\n",
        "        rmse = np.sqrt(mean_squared_error(Y_test_aligned.iloc[:, i], y_pred_test[:, i]))\n",
        "\n",
        "        # Calculate Bias score for the current target\n",
        "        bias = np.mean(y_pred_test[:, i]) - np.mean(Y_test_aligned.iloc[:, i])\n",
        "\n",
        "\n",
        "        print(f\"  {target_name} - R2: {r2:.4f}\")\n",
        "        print(f\"  {target_name} - RMSE: {rmse:.4f}\")\n",
        "        print(f\"  {target_name} - Bias: {bias:.4f}\")\n",
        "\n",
        "else:\n",
        "    print(\"Mismatch between the number of model outputs and the number of target variables in Y_test_aligned.\")\n",
        "    print(f\"Model outputs shape: {y_pred_test.shape}\")\n",
        "    print(f\"Y_test_aligned shape: {Y_test_aligned.shape}\")"
      ],
      "metadata": {
        "colab": {
          "base_uri": "https://localhost:8080/"
        },
        "id": "dgTWL4kdcs63",
        "outputId": "53749d9a-da2a-41ba-9706-73c2e5de7f3b"
      },
      "execution_count": 149,
      "outputs": [
        {
          "output_type": "stream",
          "name": "stdout",
          "text": [
            "Making predictions on testing images...\n",
            "\u001b[1m8/8\u001b[0m \u001b[32m━━━━━━━━━━━━━━━━━━━━\u001b[0m\u001b[37m\u001b[0m \u001b[1m1s\u001b[0m 58ms/step\n",
            "\n",
            "Testing Results:\n",
            "  Moi - R2: 0.1149\n",
            "  Moi - RMSE: 6.5808\n",
            "  Moi - Bias: 4.2849\n",
            "  NDF - R2: 0.0256\n",
            "  NDF - RMSE: 6.0590\n",
            "  NDF - Bias: 0.0351\n",
            "  Starch - R2: -0.0009\n",
            "  Starch - RMSE: 10.2659\n",
            "  Starch - Bias: 0.7649\n"
          ]
        }
      ]
    },
    {
      "cell_type": "code",
      "source": [
        "model_regression.summary()"
      ],
      "metadata": {
        "colab": {
          "base_uri": "https://localhost:8080/",
          "height": 465
        },
        "id": "8Qz3RLGZjnQ9",
        "outputId": "8f77e4e5-1aea-4f7d-9ea8-cd2e356acabf"
      },
      "execution_count": 150,
      "outputs": [
        {
          "output_type": "display_data",
          "data": {
            "text/plain": [
              "\u001b[1mModel: \"functional_24\"\u001b[0m\n"
            ],
            "text/html": [
              "<pre style=\"white-space:pre;overflow-x:auto;line-height:normal;font-family:Menlo,'DejaVu Sans Mono',consolas,'Courier New',monospace\"><span style=\"font-weight: bold\">Model: \"functional_24\"</span>\n",
              "</pre>\n"
            ]
          },
          "metadata": {}
        },
        {
          "output_type": "display_data",
          "data": {
            "text/plain": [
              "┏━━━━━━━━━━━━━━━━━━━━━━━━━━━━━━━━━┳━━━━━━━━━━━━━━━━━━━━━━━━┳━━━━━━━━━━━━━━━┓\n",
              "┃\u001b[1m \u001b[0m\u001b[1mLayer (type)                   \u001b[0m\u001b[1m \u001b[0m┃\u001b[1m \u001b[0m\u001b[1mOutput Shape          \u001b[0m\u001b[1m \u001b[0m┃\u001b[1m \u001b[0m\u001b[1m      Param #\u001b[0m\u001b[1m \u001b[0m┃\n",
              "┡━━━━━━━━━━━━━━━━━━━━━━━━━━━━━━━━━╇━━━━━━━━━━━━━━━━━━━━━━━━╇━━━━━━━━━━━━━━━┩\n",
              "│ input_layer_3 (\u001b[38;5;33mInputLayer\u001b[0m)      │ (\u001b[38;5;45mNone\u001b[0m, \u001b[38;5;34m32\u001b[0m, \u001b[38;5;34m32\u001b[0m, \u001b[38;5;34m4\u001b[0m)      │             \u001b[38;5;34m0\u001b[0m │\n",
              "├─────────────────────────────────┼────────────────────────┼───────────────┤\n",
              "│ conv2d_5 (\u001b[38;5;33mConv2D\u001b[0m)               │ (\u001b[38;5;45mNone\u001b[0m, \u001b[38;5;34m32\u001b[0m, \u001b[38;5;34m32\u001b[0m, \u001b[38;5;34m6\u001b[0m)      │           \u001b[38;5;34m606\u001b[0m │\n",
              "├─────────────────────────────────┼────────────────────────┼───────────────┤\n",
              "│ average_pooling2d_4             │ (\u001b[38;5;45mNone\u001b[0m, \u001b[38;5;34m16\u001b[0m, \u001b[38;5;34m16\u001b[0m, \u001b[38;5;34m6\u001b[0m)      │             \u001b[38;5;34m0\u001b[0m │\n",
              "│ (\u001b[38;5;33mAveragePooling2D\u001b[0m)              │                        │               │\n",
              "├─────────────────────────────────┼────────────────────────┼───────────────┤\n",
              "│ conv2d_6 (\u001b[38;5;33mConv2D\u001b[0m)               │ (\u001b[38;5;45mNone\u001b[0m, \u001b[38;5;34m12\u001b[0m, \u001b[38;5;34m12\u001b[0m, \u001b[38;5;34m16\u001b[0m)     │         \u001b[38;5;34m2,416\u001b[0m │\n",
              "├─────────────────────────────────┼────────────────────────┼───────────────┤\n",
              "│ average_pooling2d_5             │ (\u001b[38;5;45mNone\u001b[0m, \u001b[38;5;34m6\u001b[0m, \u001b[38;5;34m6\u001b[0m, \u001b[38;5;34m16\u001b[0m)       │             \u001b[38;5;34m0\u001b[0m │\n",
              "│ (\u001b[38;5;33mAveragePooling2D\u001b[0m)              │                        │               │\n",
              "├─────────────────────────────────┼────────────────────────┼───────────────┤\n",
              "│ flatten_7 (\u001b[38;5;33mFlatten\u001b[0m)             │ (\u001b[38;5;45mNone\u001b[0m, \u001b[38;5;34m576\u001b[0m)            │             \u001b[38;5;34m0\u001b[0m │\n",
              "├─────────────────────────────────┼────────────────────────┼───────────────┤\n",
              "│ dense_4 (\u001b[38;5;33mDense\u001b[0m)                 │ (\u001b[38;5;45mNone\u001b[0m, \u001b[38;5;34m120\u001b[0m)            │        \u001b[38;5;34m69,240\u001b[0m │\n",
              "├─────────────────────────────────┼────────────────────────┼───────────────┤\n",
              "│ dense_5 (\u001b[38;5;33mDense\u001b[0m)                 │ (\u001b[38;5;45mNone\u001b[0m, \u001b[38;5;34m84\u001b[0m)             │        \u001b[38;5;34m10,164\u001b[0m │\n",
              "├─────────────────────────────────┼────────────────────────┼───────────────┤\n",
              "│ regression_output (\u001b[38;5;33mDense\u001b[0m)       │ (\u001b[38;5;45mNone\u001b[0m, \u001b[38;5;34m3\u001b[0m)              │           \u001b[38;5;34m255\u001b[0m │\n",
              "└─────────────────────────────────┴────────────────────────┴───────────────┘\n"
            ],
            "text/html": [
              "<pre style=\"white-space:pre;overflow-x:auto;line-height:normal;font-family:Menlo,'DejaVu Sans Mono',consolas,'Courier New',monospace\">┏━━━━━━━━━━━━━━━━━━━━━━━━━━━━━━━━━┳━━━━━━━━━━━━━━━━━━━━━━━━┳━━━━━━━━━━━━━━━┓\n",
              "┃<span style=\"font-weight: bold\"> Layer (type)                    </span>┃<span style=\"font-weight: bold\"> Output Shape           </span>┃<span style=\"font-weight: bold\">       Param # </span>┃\n",
              "┡━━━━━━━━━━━━━━━━━━━━━━━━━━━━━━━━━╇━━━━━━━━━━━━━━━━━━━━━━━━╇━━━━━━━━━━━━━━━┩\n",
              "│ input_layer_3 (<span style=\"color: #0087ff; text-decoration-color: #0087ff\">InputLayer</span>)      │ (<span style=\"color: #00d7ff; text-decoration-color: #00d7ff\">None</span>, <span style=\"color: #00af00; text-decoration-color: #00af00\">32</span>, <span style=\"color: #00af00; text-decoration-color: #00af00\">32</span>, <span style=\"color: #00af00; text-decoration-color: #00af00\">4</span>)      │             <span style=\"color: #00af00; text-decoration-color: #00af00\">0</span> │\n",
              "├─────────────────────────────────┼────────────────────────┼───────────────┤\n",
              "│ conv2d_5 (<span style=\"color: #0087ff; text-decoration-color: #0087ff\">Conv2D</span>)               │ (<span style=\"color: #00d7ff; text-decoration-color: #00d7ff\">None</span>, <span style=\"color: #00af00; text-decoration-color: #00af00\">32</span>, <span style=\"color: #00af00; text-decoration-color: #00af00\">32</span>, <span style=\"color: #00af00; text-decoration-color: #00af00\">6</span>)      │           <span style=\"color: #00af00; text-decoration-color: #00af00\">606</span> │\n",
              "├─────────────────────────────────┼────────────────────────┼───────────────┤\n",
              "│ average_pooling2d_4             │ (<span style=\"color: #00d7ff; text-decoration-color: #00d7ff\">None</span>, <span style=\"color: #00af00; text-decoration-color: #00af00\">16</span>, <span style=\"color: #00af00; text-decoration-color: #00af00\">16</span>, <span style=\"color: #00af00; text-decoration-color: #00af00\">6</span>)      │             <span style=\"color: #00af00; text-decoration-color: #00af00\">0</span> │\n",
              "│ (<span style=\"color: #0087ff; text-decoration-color: #0087ff\">AveragePooling2D</span>)              │                        │               │\n",
              "├─────────────────────────────────┼────────────────────────┼───────────────┤\n",
              "│ conv2d_6 (<span style=\"color: #0087ff; text-decoration-color: #0087ff\">Conv2D</span>)               │ (<span style=\"color: #00d7ff; text-decoration-color: #00d7ff\">None</span>, <span style=\"color: #00af00; text-decoration-color: #00af00\">12</span>, <span style=\"color: #00af00; text-decoration-color: #00af00\">12</span>, <span style=\"color: #00af00; text-decoration-color: #00af00\">16</span>)     │         <span style=\"color: #00af00; text-decoration-color: #00af00\">2,416</span> │\n",
              "├─────────────────────────────────┼────────────────────────┼───────────────┤\n",
              "│ average_pooling2d_5             │ (<span style=\"color: #00d7ff; text-decoration-color: #00d7ff\">None</span>, <span style=\"color: #00af00; text-decoration-color: #00af00\">6</span>, <span style=\"color: #00af00; text-decoration-color: #00af00\">6</span>, <span style=\"color: #00af00; text-decoration-color: #00af00\">16</span>)       │             <span style=\"color: #00af00; text-decoration-color: #00af00\">0</span> │\n",
              "│ (<span style=\"color: #0087ff; text-decoration-color: #0087ff\">AveragePooling2D</span>)              │                        │               │\n",
              "├─────────────────────────────────┼────────────────────────┼───────────────┤\n",
              "│ flatten_7 (<span style=\"color: #0087ff; text-decoration-color: #0087ff\">Flatten</span>)             │ (<span style=\"color: #00d7ff; text-decoration-color: #00d7ff\">None</span>, <span style=\"color: #00af00; text-decoration-color: #00af00\">576</span>)            │             <span style=\"color: #00af00; text-decoration-color: #00af00\">0</span> │\n",
              "├─────────────────────────────────┼────────────────────────┼───────────────┤\n",
              "│ dense_4 (<span style=\"color: #0087ff; text-decoration-color: #0087ff\">Dense</span>)                 │ (<span style=\"color: #00d7ff; text-decoration-color: #00d7ff\">None</span>, <span style=\"color: #00af00; text-decoration-color: #00af00\">120</span>)            │        <span style=\"color: #00af00; text-decoration-color: #00af00\">69,240</span> │\n",
              "├─────────────────────────────────┼────────────────────────┼───────────────┤\n",
              "│ dense_5 (<span style=\"color: #0087ff; text-decoration-color: #0087ff\">Dense</span>)                 │ (<span style=\"color: #00d7ff; text-decoration-color: #00d7ff\">None</span>, <span style=\"color: #00af00; text-decoration-color: #00af00\">84</span>)             │        <span style=\"color: #00af00; text-decoration-color: #00af00\">10,164</span> │\n",
              "├─────────────────────────────────┼────────────────────────┼───────────────┤\n",
              "│ regression_output (<span style=\"color: #0087ff; text-decoration-color: #0087ff\">Dense</span>)       │ (<span style=\"color: #00d7ff; text-decoration-color: #00d7ff\">None</span>, <span style=\"color: #00af00; text-decoration-color: #00af00\">3</span>)              │           <span style=\"color: #00af00; text-decoration-color: #00af00\">255</span> │\n",
              "└─────────────────────────────────┴────────────────────────┴───────────────┘\n",
              "</pre>\n"
            ]
          },
          "metadata": {}
        },
        {
          "output_type": "display_data",
          "data": {
            "text/plain": [
              "\u001b[1m Total params: \u001b[0m\u001b[38;5;34m248,045\u001b[0m (968.93 KB)\n"
            ],
            "text/html": [
              "<pre style=\"white-space:pre;overflow-x:auto;line-height:normal;font-family:Menlo,'DejaVu Sans Mono',consolas,'Courier New',monospace\"><span style=\"font-weight: bold\"> Total params: </span><span style=\"color: #00af00; text-decoration-color: #00af00\">248,045</span> (968.93 KB)\n",
              "</pre>\n"
            ]
          },
          "metadata": {}
        },
        {
          "output_type": "display_data",
          "data": {
            "text/plain": [
              "\u001b[1m Trainable params: \u001b[0m\u001b[38;5;34m82,681\u001b[0m (322.97 KB)\n"
            ],
            "text/html": [
              "<pre style=\"white-space:pre;overflow-x:auto;line-height:normal;font-family:Menlo,'DejaVu Sans Mono',consolas,'Courier New',monospace\"><span style=\"font-weight: bold\"> Trainable params: </span><span style=\"color: #00af00; text-decoration-color: #00af00\">82,681</span> (322.97 KB)\n",
              "</pre>\n"
            ]
          },
          "metadata": {}
        },
        {
          "output_type": "display_data",
          "data": {
            "text/plain": [
              "\u001b[1m Non-trainable params: \u001b[0m\u001b[38;5;34m0\u001b[0m (0.00 B)\n"
            ],
            "text/html": [
              "<pre style=\"white-space:pre;overflow-x:auto;line-height:normal;font-family:Menlo,'DejaVu Sans Mono',consolas,'Courier New',monospace\"><span style=\"font-weight: bold\"> Non-trainable params: </span><span style=\"color: #00af00; text-decoration-color: #00af00\">0</span> (0.00 B)\n",
              "</pre>\n"
            ]
          },
          "metadata": {}
        },
        {
          "output_type": "display_data",
          "data": {
            "text/plain": [
              "\u001b[1m Optimizer params: \u001b[0m\u001b[38;5;34m165,364\u001b[0m (645.96 KB)\n"
            ],
            "text/html": [
              "<pre style=\"white-space:pre;overflow-x:auto;line-height:normal;font-family:Menlo,'DejaVu Sans Mono',consolas,'Courier New',monospace\"><span style=\"font-weight: bold\"> Optimizer params: </span><span style=\"color: #00af00; text-decoration-color: #00af00\">165,364</span> (645.96 KB)\n",
              "</pre>\n"
            ]
          },
          "metadata": {}
        }
      ]
    },
    {
      "cell_type": "code",
      "source": [],
      "metadata": {
        "id": "LC46IZt1kvF_"
      },
      "execution_count": null,
      "outputs": []
    },
    {
      "cell_type": "code",
      "metadata": {
        "colab": {
          "base_uri": "https://localhost:8080/",
          "height": 493
        },
        "id": "17b540c1",
        "outputId": "880139f1-b815-45d4-a9cf-1a4d559df60e"
      },
      "source": [
        "import matplotlib.pyplot as plt\n",
        "import seaborn as sns\n",
        "import pandas as pd # Import pandas for DataFrame handling if Y_test_aligned is a DataFrame\n",
        "\n",
        "# Assuming y_pred_test contains predictions from the model (NumPy array)\n",
        "# Assuming Y_test_aligned contains the actual test targets (pandas DataFrame)\n",
        "\n",
        "# Ensure Y_test_aligned is treated as a DataFrame for column access\n",
        "if not isinstance(Y_test_aligned, pd.DataFrame):\n",
        "    # Attempt to convert to DataFrame, assuming column names are available from y_test\n",
        "    # This relies on y_test still being available and having the correct columns\n",
        "    if 'y_test' in locals() and isinstance(y_test, pd.DataFrame):\n",
        "         Y_test_aligned = pd.DataFrame(Y_test_aligned, columns=y_test.columns)\n",
        "         print(\"Converted Y_test_aligned to DataFrame using y_test columns.\")\n",
        "    else:\n",
        "         print(\"Could not convert Y_test_aligned to DataFrame. Target names might be incorrect.\")\n",
        "         # Fallback: use generic names if conversion fails\n",
        "         target_names = [f'Target {i+1}' for i in range(y_pred_test.shape[1])]\n",
        "         Y_test_aligned = pd.DataFrame(Y_test_aligned, columns=target_names)\n",
        "else:\n",
        "    target_names = Y_test_aligned.columns.tolist()\n",
        "\n",
        "\n",
        "print(\"Generating scatter plots of Predicted vs Actual values for the test set...\")\n",
        "\n",
        "if y_pred_test.shape[1] == len(target_names):\n",
        "    num_targets = y_pred_test.shape[1]\n",
        "    fig, axes = plt.subplots(1, num_targets, figsize=(6 * num_targets, 5)) # Create subplots\n",
        "\n",
        "    if num_targets == 1: # Handle case with only one target\n",
        "        axes = [axes]\n",
        "\n",
        "    for i in range(num_targets):\n",
        "        ax = axes[i]\n",
        "        target_name = target_names[i]\n",
        "\n",
        "        # Create a DataFrame for plotting\n",
        "        plot_df = pd.DataFrame({\n",
        "            'Actual': Y_test_aligned.iloc[:, i],\n",
        "            'Predicted': y_pred_test[:, i]\n",
        "        })\n",
        "\n",
        "        # Scatter plot\n",
        "        sns.scatterplot(data=plot_df, x='Actual', y='Predicted', ax=ax)\n",
        "        ax.set_title(f'{target_name}: Actual vs Predicted')\n",
        "        ax.set_xlabel(f'Actual {target_name}')\n",
        "        ax.set_ylabel(f'Predicted {target_name}')\n",
        "        ax.grid(True)\n",
        "\n",
        "        # Add a diagonal line for perfect prediction\n",
        "        lims = [\n",
        "            np.min([ax.get_xlim(), ax.get_ylim()]),  # min of both axes\n",
        "            np.max([ax.get_xlim(), ax.get_ylim()]),  # max of both axes\n",
        "        ]\n",
        "        ax.plot(lims, lims, 'k-', alpha=0.75, zorder=0)\n",
        "        ax.set_aspect('equal', adjustable='box')\n",
        "        ax.set_xlim(lims)\n",
        "        ax.set_ylim(lims)\n",
        "\n",
        "\n",
        "    plt.tight_layout()\n",
        "    plt.show()\n",
        "\n",
        "else:\n",
        "    print(\"Mismatch between the number of model outputs and the number of target variables for plotting.\")\n",
        "    print(f\"Model outputs shape: {y_pred_test.shape}\")\n",
        "    print(f\"Y_test_aligned shape: {Y_test_aligned.shape}\")"
      ],
      "execution_count": 151,
      "outputs": [
        {
          "output_type": "stream",
          "name": "stdout",
          "text": [
            "Generating scatter plots of Predicted vs Actual values for the test set...\n"
          ]
        },
        {
          "output_type": "display_data",
          "data": {
            "text/plain": [
              "<Figure size 1800x500 with 3 Axes>"
            ],
            "image/png": "[encoded data removed]"
          },
          "metadata": {}
        }
      ]
    }
  ]
}