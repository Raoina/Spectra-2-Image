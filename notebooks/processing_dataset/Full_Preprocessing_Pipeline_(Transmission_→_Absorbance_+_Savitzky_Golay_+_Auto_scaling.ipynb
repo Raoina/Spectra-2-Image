{
  "nbformat": 4,
  "nbformat_minor": 0,
  "metadata": {
    "colab": {
      "provenance": [],
      "authorship_tag": "ABX9TyOlrpj0L/iIemQaBRqeIMcB",
      "include_colab_link": true
    },
    "kernelspec": {
      "name": "python3",
      "display_name": "Python 3"
    },
    "language_info": {
      "name": "python"
    }
  },
  "cells": [
    {
      "cell_type": "markdown",
      "metadata": {
        "id": "view-in-github",
        "colab_type": "text"
      },
      "source": [
        "<a href=\"https://colab.research.google.com/github/Raoina/Spectra-2-Image/blob/main/notebooks/processing_dataset/Full_Preprocessing_Pipeline_(Transmission_%E2%86%92_Absorbance_%2B_Savitzky_Golay_%2B_Auto_scaling.ipynb\" target=\"_parent\"><img src=\"https://colab.research.google.com/assets/colab-badge.svg\" alt=\"Open In Colab\"/></a>"
      ]
    },
    {
      "cell_type": "code",
      "execution_count": 4,
      "metadata": {
        "id": "6FQH3r59oByH",
        "colab": {
          "base_uri": "https://localhost:8080/"
        },
        "outputId": "fbae5d40-7b3a-4f8c-9653-565256bd195c"
      },
      "outputs": [
        {
          "output_type": "stream",
          "name": "stdout",
          "text": [
            "\n",
            "✅ Full dataset preprocessed and saved successfully (headers kept):\n",
            "• X_preprocessed_no_snv.csv\n",
            "• y_preprocessed_no_snv.csv\n"
          ]
        }
      ],
      "source": [
        "# ====== 2. Preprocessing (Full Dataset, No Split or Shuffle, Keep Headers) ==================\n",
        "import numpy as np\n",
        "import pandas as pd\n",
        "import json\n",
        "from scipy.signal import savgol_filter\n",
        "\n",
        "# ---------- Step 1: Transmission → Absorbance ----------\n",
        "def transmission_to_absorbance(X):\n",
        "    X = np.clip(X, 1e-10, None)\n",
        "    return np.log10(1 / X)\n",
        "\n",
        "# ---------- Step 2: Savitzky–Golay Derivative ----------\n",
        "def savgol_derivative(X, win=9, poly=7, deriv=1):\n",
        "    n_cols = X.shape[1]\n",
        "    if win % 2 == 0:\n",
        "        win += 1\n",
        "    if win > n_cols:\n",
        "        win = n_cols - 1 if (n_cols - 1) % 2 == 1 else n_cols - 2\n",
        "        if win < 3:\n",
        "            win = 3\n",
        "    return savgol_filter(X, window_length=win, polyorder=poly, deriv=deriv, axis=1)\n",
        "\n",
        "# ---------- Step 3: Auto-scaling ----------\n",
        "def auto_scale(X, mean=None, std=None):\n",
        "    if mean is None or std is None:\n",
        "        mean = np.mean(X, axis=0)\n",
        "        std = np.std(X, axis=0)\n",
        "    if np.isscalar(std):\n",
        "        if std == 0:\n",
        "            std = 1e-10\n",
        "    else:\n",
        "        std[std == 0] = 1e-10\n",
        "    return (X - mean) / std, mean, std\n",
        "\n",
        "# ---------- Main Preprocessing Function ----------\n",
        "def preprocess_full_absorbance_sg_autoscale_no_snv(X, y):\n",
        "    # Convert to numpy arrays\n",
        "    X_array = np.array(X, dtype=float)\n",
        "    y_array = np.array(y, dtype=float)\n",
        "    if y_array.ndim == 1:\n",
        "        y_array = y_array.reshape(-1, 1)\n",
        "\n",
        "    # Step 1: Transmission → Absorbance\n",
        "    X_abs = transmission_to_absorbance(X_array)\n",
        "\n",
        "    # Step 2: Savitzky–Golay Derivative\n",
        "    X_sg = savgol_derivative(X_abs)\n",
        "\n",
        "    # Step 3: Auto-scale X\n",
        "    X_scaled, mean_x, std_x = auto_scale(X_sg)\n",
        "\n",
        "    # Step 4: Auto-scale y\n",
        "    y_scaled, mean_y, std_y = auto_scale(y_array)\n",
        "\n",
        "    return X_scaled, y_scaled, mean_x, std_x, mean_y, std_y\n",
        "\n",
        "\n",
        "# ================== Example Usage ==================\n",
        "# ---- Replace these lines with your actual data ----\n",
        "X = pd.read_csv(\"/content/spectra_train_488.csv\")\n",
        "y = pd.read_csv(\"/content/target_train_488.csv\")\n",
        "\n",
        "# Keep original headers\n",
        "x_headers = X.columns\n",
        "y_headers = y.columns\n",
        "\n",
        "# Run preprocessing\n",
        "X_proc, y_proc, mean_x, std_x, mean_y, std_y = preprocess_full_absorbance_sg_autoscale_no_snv(X, y)\n",
        "\n",
        "# ---------- Save preprocessed data with original headers ----------\n",
        "pd.DataFrame(X_proc, columns=x_headers).to_csv(\"X_preprocessed_no_snv.csv\", index=False)\n",
        "pd.DataFrame(y_proc, columns=y_headers).to_csv(\"y_preprocessed_no_snv.csv\", index=False)\n",
        "\n",
        "print(\"\\n✅ Full dataset preprocessed and saved successfully (headers kept):\")\n",
        "print(\"• X_preprocessed_no_snv.csv\")\n",
        "print(\"• y_preprocessed_no_snv.csv\")"
      ]
    },
    {
      "cell_type": "code",
      "source": [],
      "metadata": {
        "id": "r0eGxRS837C5"
      },
      "execution_count": null,
      "outputs": []
    }
  ]
}